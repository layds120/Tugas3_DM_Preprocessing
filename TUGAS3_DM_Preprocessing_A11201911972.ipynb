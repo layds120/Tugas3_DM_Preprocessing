{
  "nbformat": 4,
  "nbformat_minor": 0,
  "metadata": {
    "colab": {
      "name": "TUGAS3_DM_Preprocessing_A11201911972.ipynb",
      "provenance": [],
      "collapsed_sections": [],
      "include_colab_link": true
    },
    "kernelspec": {
      "name": "python3",
      "display_name": "Python 3"
    },
    "language_info": {
      "name": "python"
    }
  },
  "cells": [
    {
      "cell_type": "markdown",
      "metadata": {
        "id": "view-in-github",
        "colab_type": "text"
      },
      "source": [
        "<a href=\"https://colab.research.google.com/github/layds120/Tugas3_DM_Preprocessing/blob/main/TUGAS3_DM_Preprocessing_A11201911972.ipynb\" target=\"_parent\"><img src=\"https://colab.research.google.com/assets/colab-badge.svg\" alt=\"Open In Colab\"/></a>"
      ]
    },
    {
      "cell_type": "markdown",
      "source": [
        "Dian Laila Shifa\n",
        "\n",
        "---\n",
        "\n",
        "\n",
        "A11.2019.11972"
      ],
      "metadata": {
        "id": "1wqb3f3Y4xLz"
      }
    },
    {
      "cell_type": "code",
      "execution_count": null,
      "metadata": {
        "id": "BGdYMTezx4Y7"
      },
      "outputs": [],
      "source": [
        "import numpy as np\n",
        "import matplotlib.pyplot as plt\n",
        "import pandas as pd"
      ]
    },
    {
      "cell_type": "code",
      "source": [
        "dataset = pd.read_csv('BMI.csv')\n",
        "x = dataset.iloc[:, :-1].values\n",
        "y = dataset.iloc[:, -1].values"
      ],
      "metadata": {
        "id": "Zp3LEFCIyWKI"
      },
      "execution_count": null,
      "outputs": []
    },
    {
      "cell_type": "code",
      "source": [
        "print(x)"
      ],
      "metadata": {
        "colab": {
          "base_uri": "https://localhost:8080/"
        },
        "id": "ADBj0FxAya3H",
        "outputId": "56dcb00a-f0b1-4a8d-c2a4-b0087a3ac41d"
      },
      "execution_count": null,
      "outputs": [
        {
          "output_type": "stream",
          "name": "stdout",
          "text": [
            "[['Laras' 80.0 24.7]\n",
            " ['Budi' 55.0 22.9]\n",
            " ['Lesti' 50.0 nan]\n",
            " ['Budi' 42.0 18.7]\n",
            " ['Lesti' 75.0 29.3]\n",
            " ['Lesti' nan 19.6]\n",
            " ['Laras' 65.0 19.0]\n",
            " ['Budi' 50.0 17.3]\n",
            " ['Lesti' 65.0 16.5]\n",
            " ['Laras' 60.0 25.4]]\n"
          ]
        }
      ]
    },
    {
      "cell_type": "code",
      "source": [
        "from sklearn.model_selection import train_test_split\n",
        "x_train, x_test, y_train, y_test = train_test_split(x,y,test_size=0.2,random_state=0)"
      ],
      "metadata": {
        "id": "oP07ZpGLyenQ"
      },
      "execution_count": null,
      "outputs": []
    },
    {
      "cell_type": "code",
      "source": [
        "print(x_train)"
      ],
      "metadata": {
        "colab": {
          "base_uri": "https://localhost:8080/"
        },
        "id": "vHgva7cmyjV0",
        "outputId": "47e05141-561b-4837-9a86-7dd2f35b261c"
      },
      "execution_count": null,
      "outputs": [
        {
          "output_type": "stream",
          "name": "stdout",
          "text": [
            "[['Lesti' 75.0 29.3]\n",
            " ['Laras' 60.0 25.4]\n",
            " ['Budi' 55.0 22.9]\n",
            " ['Laras' 65.0 19.0]\n",
            " ['Budi' 50.0 17.3]\n",
            " ['Budi' 42.0 18.7]\n",
            " ['Laras' 80.0 24.7]\n",
            " ['Lesti' nan 19.6]]\n"
          ]
        }
      ]
    },
    {
      "cell_type": "code",
      "source": [
        "print(x_test)"
      ],
      "metadata": {
        "colab": {
          "base_uri": "https://localhost:8080/"
        },
        "id": "OphWPsQ6ypTT",
        "outputId": "693ac053-4e57-4579-b71c-c3821cc5ffe8"
      },
      "execution_count": null,
      "outputs": [
        {
          "output_type": "stream",
          "name": "stdout",
          "text": [
            "[['Lesti' 50.0 nan]\n",
            " ['Lesti' 65.0 16.5]]\n"
          ]
        }
      ]
    },
    {
      "cell_type": "code",
      "source": [
        "from sklearn.impute import SimpleImputer\n",
        "imputer = SimpleImputer(missing_values=np.nan, strategy='mean')\n",
        "imputer.fit(x[:, 1:3])\n",
        "x[:, 1:3] = imputer.transform(x[:, 1:3])"
      ],
      "metadata": {
        "id": "_Usxqodsysgi"
      },
      "execution_count": null,
      "outputs": []
    },
    {
      "cell_type": "code",
      "source": [
        "print(x)"
      ],
      "metadata": {
        "colab": {
          "base_uri": "https://localhost:8080/"
        },
        "id": "WwOH9Zysyxyq",
        "outputId": "fa94865e-5af4-425d-a3c6-de9e2e855fd2"
      },
      "execution_count": null,
      "outputs": [
        {
          "output_type": "stream",
          "name": "stdout",
          "text": [
            "[['Laras' 80.0 24.7]\n",
            " ['Budi' 55.0 22.9]\n",
            " ['Lesti' 50.0 21.48888888888889]\n",
            " ['Budi' 42.0 18.7]\n",
            " ['Lesti' 75.0 29.3]\n",
            " ['Lesti' 60.22222222222222 19.6]\n",
            " ['Laras' 65.0 19.0]\n",
            " ['Budi' 50.0 17.3]\n",
            " ['Lesti' 65.0 16.5]\n",
            " ['Laras' 60.0 25.4]]\n"
          ]
        }
      ]
    },
    {
      "cell_type": "code",
      "source": [
        "from sklearn.compose import ColumnTransformer\n",
        "from sklearn.preprocessing import OneHotEncoder\n",
        "ct = ColumnTransformer(transformers=[('encoder', OneHotEncoder(), [0])], remainder='passthrough')\n",
        "x = np.array(ct.fit_transform(x))"
      ],
      "metadata": {
        "id": "5O6tqvVGy12W"
      },
      "execution_count": null,
      "outputs": []
    },
    {
      "cell_type": "code",
      "source": [
        "print(x)"
      ],
      "metadata": {
        "colab": {
          "base_uri": "https://localhost:8080/"
        },
        "id": "-jraHMgdzBxa",
        "outputId": "b5159765-7e70-480e-de8b-369d24b8e166"
      },
      "execution_count": null,
      "outputs": [
        {
          "output_type": "stream",
          "name": "stdout",
          "text": [
            "[[0.0 1.0 0.0 80.0 24.7]\n",
            " [1.0 0.0 0.0 55.0 22.9]\n",
            " [0.0 0.0 1.0 50.0 21.48888888888889]\n",
            " [1.0 0.0 0.0 42.0 18.7]\n",
            " [0.0 0.0 1.0 75.0 29.3]\n",
            " [0.0 0.0 1.0 60.22222222222222 19.6]\n",
            " [0.0 1.0 0.0 65.0 19.0]\n",
            " [1.0 0.0 0.0 50.0 17.3]\n",
            " [0.0 0.0 1.0 65.0 16.5]\n",
            " [0.0 1.0 0.0 60.0 25.4]]\n"
          ]
        }
      ]
    },
    {
      "cell_type": "code",
      "source": [
        "from sklearn.preprocessing import LabelEncoder\n",
        "le = LabelEncoder()\n",
        "y = le.fit_transform(y)"
      ],
      "metadata": {
        "id": "dfeAGhwmzFwT"
      },
      "execution_count": null,
      "outputs": []
    },
    {
      "cell_type": "code",
      "source": [
        "print(y)"
      ],
      "metadata": {
        "colab": {
          "base_uri": "https://localhost:8080/"
        },
        "id": "brtMFFUUzJ6O",
        "outputId": "682aff8f-2e8e-4442-d398-d97b5505ee8f"
      },
      "execution_count": null,
      "outputs": [
        {
          "output_type": "stream",
          "name": "stdout",
          "text": [
            "[0 2 0 1 0 2 2 0 0 0]\n"
          ]
        }
      ]
    },
    {
      "cell_type": "code",
      "source": [
        "from sklearn.model_selection import train_test_split\n",
        "x_train, x_test, y_train, y_test = train_test_split(x, y, test_size = 0.2, random_state = 1)"
      ],
      "metadata": {
        "id": "XZabwvXvzNtK"
      },
      "execution_count": null,
      "outputs": []
    },
    {
      "cell_type": "code",
      "source": [
        "print(x_train)"
      ],
      "metadata": {
        "colab": {
          "base_uri": "https://localhost:8080/"
        },
        "id": "17EwSgxnzRKs",
        "outputId": "3e0236ea-415a-43cb-82ed-8e3e200f6be4"
      },
      "execution_count": null,
      "outputs": [
        {
          "output_type": "stream",
          "name": "stdout",
          "text": [
            "[[0.0 1.0 0.0 65.0 19.0]\n",
            " [0.0 0.0 1.0 75.0 29.3]\n",
            " [0.0 1.0 0.0 80.0 24.7]\n",
            " [1.0 0.0 0.0 42.0 18.7]\n",
            " [1.0 0.0 0.0 55.0 22.9]\n",
            " [1.0 0.0 0.0 50.0 17.3]\n",
            " [0.0 0.0 1.0 65.0 16.5]\n",
            " [0.0 0.0 1.0 60.22222222222222 19.6]]\n"
          ]
        }
      ]
    },
    {
      "cell_type": "code",
      "source": [
        "print(x_test)"
      ],
      "metadata": {
        "colab": {
          "base_uri": "https://localhost:8080/"
        },
        "id": "5JcduiEfzWV1",
        "outputId": "4cf39a6d-82cb-408a-b802-6b2b6893a298"
      },
      "execution_count": null,
      "outputs": [
        {
          "output_type": "stream",
          "name": "stdout",
          "text": [
            "[[0.0 0.0 1.0 50.0 21.48888888888889]\n",
            " [0.0 1.0 0.0 60.0 25.4]]\n"
          ]
        }
      ]
    },
    {
      "cell_type": "code",
      "source": [
        "print(y_train)"
      ],
      "metadata": {
        "colab": {
          "base_uri": "https://localhost:8080/"
        },
        "id": "M2_Vhxn1zZQ8",
        "outputId": "c3e0e12f-319c-4a57-b6fd-6a8cbdce4743"
      },
      "execution_count": null,
      "outputs": [
        {
          "output_type": "stream",
          "name": "stdout",
          "text": [
            "[2 0 0 1 2 0 0 2]\n"
          ]
        }
      ]
    },
    {
      "cell_type": "code",
      "source": [
        "print(y_test)"
      ],
      "metadata": {
        "colab": {
          "base_uri": "https://localhost:8080/"
        },
        "id": "bom9mmh0zgsD",
        "outputId": "8d56816a-c7df-4895-c84d-a09f955b3f4d"
      },
      "execution_count": null,
      "outputs": [
        {
          "output_type": "stream",
          "name": "stdout",
          "text": [
            "[0 0]\n"
          ]
        }
      ]
    },
    {
      "cell_type": "code",
      "source": [
        "from sklearn.preprocessing import StandardScaler\n",
        "sc = StandardScaler()\n",
        "x_train[:, 3:] = sc.fit_transform(x_train[:, 3:])\n",
        "x_test[:, 3:] = sc.transform(x_test[:,3:])"
      ],
      "metadata": {
        "id": "QHlxDRQgziTa"
      },
      "execution_count": null,
      "outputs": []
    },
    {
      "cell_type": "code",
      "source": [
        "print(x_train)"
      ],
      "metadata": {
        "colab": {
          "base_uri": "https://localhost:8080/"
        },
        "id": "E2HyoP5PzmKd",
        "outputId": "fa1b6cb2-57b6-4bc2-be06-ae07e96a2ef9"
      },
      "execution_count": null,
      "outputs": [
        {
          "output_type": "stream",
          "name": "stdout",
          "text": [
            "[[0.0 0.0 1.0 1.8520869081516291 0.25144742283748456]\n",
            " [0.0 1.0 0.0 1.333214311315375 0.8261843893231647]\n",
            " [0.0 1.0 0.0 -0.2234034791933881 1.400921355808845]\n",
            " [0.0 1.0 0.0 -0.7422760760296424 -0.3232895436481943]\n",
            " [0.0 0.0 1.0 -1.2611486728658967 -1.7601319598623935]\n",
            " [0.0 0.0 1.0 -0.7422760760296424 -1.1853949933767145]\n",
            " [0.0 1.0 0.0 -0.2234034791933881 0.8261843893231647]\n",
            " [1.0 0.0 0.0 0.007206563844946338 -0.03592106040535421]]\n"
          ]
        }
      ]
    },
    {
      "cell_type": "code",
      "source": [
        "print(x_test)"
      ],
      "metadata": {
        "colab": {
          "base_uri": "https://localhost:8080/"
        },
        "id": "jnABkRz3zrV1",
        "outputId": "b066e50b-39b3-471d-e2b6-892d77272790"
      },
      "execution_count": null,
      "outputs": [
        {
          "output_type": "stream",
          "name": "stdout",
          "text": [
            "[[0.0 0.0 1.0 -0.980698401168828 0.12063977867626013]\n",
            " [0.0 1.0 0.0 -0.1299720772633387 1.085758008086337]]\n"
          ]
        }
      ]
    }
  ]
}